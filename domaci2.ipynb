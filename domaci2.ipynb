{
 "cells": [
  {
   "cell_type": "code",
   "execution_count": 3,
   "metadata": {},
   "outputs": [
    {
     "name": "stdout",
     "output_type": "stream",
     "text": [
      "Collecting pysam\n",
      "  Downloading pysam-0.16.0.1-cp38-cp38-manylinux1_x86_64.whl (10.2 MB)\n",
      "\u001b[K     |████████████████████████████████| 10.2 MB 30.9 MB/s eta 0:00:01\n",
      "\u001b[?25hInstalling collected packages: pysam\n",
      "Successfully installed pysam-0.16.0.1\n",
      "Note: you may need to restart the kernel to use updated packages.\n"
     ]
    }
   ],
   "source": [
    "pip install pysam"
   ]
  },
  {
   "cell_type": "code",
   "execution_count": 16,
   "metadata": {},
   "outputs": [
    {
     "name": "stdout",
     "output_type": "stream",
     "text": [
      "Number of unmapped reads: 17765\n",
      "Total number of reads: 2921629\n",
      "Number of reads with mapping quality 0: 126628\n",
      "Average mapping quality for all the reads: 55.91379158681681\n",
      "Average mapping quality if reads with 0 mapp quality are filtered out: 58.446975510921106\n"
     ]
    }
   ],
   "source": [
    "import pysam \n",
    "\n",
    "numUnmappedReads = 0;\n",
    "numAllrds = 0;\n",
    "numMappingZero = 0;\n",
    "mappingQuality = 0;\n",
    "\n",
    "file = pysam.AlignmentFile(\"merged-tumor.bam\", \"rb\");\n",
    "\n",
    "for rd in file.fetch(until_eof=True):\n",
    "    mappingQuality += rd.mapping_quality;\n",
    "    numAllrds += 1;\n",
    "    \n",
    "    if rd.is_unmapped: \n",
    "        numUnmappedReads += 1;\n",
    "    if rd.mapping_quality == 0:\n",
    "        numMappingZero += 1;\n",
    "    \n",
    "file.close()\n",
    "\n",
    "print(\"Number of unmapped reads: \" + str(numUnmappedReads));\n",
    "print(\"Total number of reads: \" + str(numAllrds));\n",
    "print(\"Number of reads with mapping quality 0: \" + str(numMappingZero));\n",
    "print(\"Average mapping quality for all the reads: \" + str(mappingQuality / numAllrds));\n",
    "print(\"Average mapping quality if reads with 0 mapp quality are filtered out: \" + str(mappingQuality / (numAllrds - numMappingZero)));\n",
    "\n"
   ]
  },
  {
   "cell_type": "code",
   "execution_count": null,
   "metadata": {},
   "outputs": [],
   "source": []
  }
 ],
 "metadata": {
  "kernelspec": {
   "display_name": "Python 3",
   "language": "python",
   "name": "python3"
  },
  "language_info": {
   "codemirror_mode": {
    "name": "ipython",
    "version": 3
   },
   "file_extension": ".py",
   "mimetype": "text/x-python",
   "name": "python",
   "nbconvert_exporter": "python",
   "pygments_lexer": "ipython3",
   "version": "3.8.3"
  }
 },
 "nbformat": 4,
 "nbformat_minor": 4
}
